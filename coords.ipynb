{
 "cells": [
  {
   "cell_type": "code",
   "execution_count": 1,
   "id": "85050c4c-3da3-448c-9274-8a9535df0a49",
   "metadata": {},
   "outputs": [
    {
     "name": "stdout",
     "output_type": "stream",
     "text": [
      "KAKASHKI\n"
     ]
    }
   ],
   "source": [
    "print(\"KAKASHKI\")"
   ]
  },
  {
   "cell_type": "code",
   "execution_count": 3,
   "id": "70988d29-02e3-407b-add4-5d3f81ca4c3b",
   "metadata": {},
   "outputs": [
    {
     "name": "stdout",
     "output_type": "stream",
     "text": [
      "rm '.idea/workspace.xml'\n"
     ]
    }
   ],
   "source": [
    "! git rm .idea/ -r"
   ]
  },
  {
   "cell_type": "code",
   "execution_count": null,
   "id": "c518c509-9aac-4904-9d2a-7bca000a29fc",
   "metadata": {},
   "outputs": [],
   "source": [
    "! g"
   ]
  }
 ],
 "metadata": {
  "kernelspec": {
   "display_name": "Python 3 (ipykernel)",
   "language": "python",
   "name": "python3"
  },
  "language_info": {
   "codemirror_mode": {
    "name": "ipython",
    "version": 3
   },
   "file_extension": ".py",
   "mimetype": "text/x-python",
   "name": "python",
   "nbconvert_exporter": "python",
   "pygments_lexer": "ipython3",
   "version": "3.10.12"
  }
 },
 "nbformat": 4,
 "nbformat_minor": 5
}
